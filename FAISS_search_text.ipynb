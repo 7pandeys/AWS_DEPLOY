{
  "nbformat": 4,
  "nbformat_minor": 0,
  "metadata": {
    "colab": {
      "provenance": [],
      "authorship_tag": "ABX9TyM3dRV6lKYZXuhp0CcwMczH",
      "include_colab_link": true
    },
    "kernelspec": {
      "name": "python3",
      "display_name": "Python 3"
    },
    "language_info": {
      "name": "python"
    }
  },
  "cells": [
    {
      "cell_type": "markdown",
      "metadata": {
        "id": "view-in-github",
        "colab_type": "text"
      },
      "source": [
        "<a href=\"https://colab.research.google.com/github/7pandeys/AWS_DEPLOY/blob/main/FAISS_search_text.ipynb\" target=\"_parent\"><img src=\"https://colab.research.google.com/assets/colab-badge.svg\" alt=\"Open In Colab\"/></a>"
      ]
    },
    {
      "cell_type": "markdown",
      "source": [
        "***How to Use FAISS to Build Your First Similarity Search***"
      ],
      "metadata": {
        "id": "EtcdWKWo84Ec"
      }
    },
    {
      "cell_type": "markdown",
      "source": [
        "https://medium.com/loopio-tech/how-to-use-faiss-to-build-your-first-similarity-search-bf0f708aa772"
      ],
      "metadata": {
        "id": "i4UiE8Cu80ke"
      }
    },
    {
      "cell_type": "markdown",
      "source": [
        "#0. Setup"
      ],
      "metadata": {
        "id": "uWc95b1Y-Me_"
      }
    },
    {
      "cell_type": "code",
      "execution_count": 1,
      "metadata": {
        "colab": {
          "base_uri": "https://localhost:8080/"
        },
        "id": "UO0P1uQl8w56",
        "outputId": "54302c32-6b9e-4dd5-8c5c-52d108c0444a"
      },
      "outputs": [
        {
          "output_type": "stream",
          "name": "stdout",
          "text": [
            "Looking in indexes: https://pypi.org/simple, https://us-python.pkg.dev/colab-wheels/public/simple/\n",
            "Collecting faiss-cpu\n",
            "  Downloading faiss_cpu-1.7.2-cp37-cp37m-manylinux_2_17_x86_64.manylinux2014_x86_64.whl (8.6 MB)\n",
            "\u001b[K     |████████████████████████████████| 8.6 MB 21.1 MB/s \n",
            "\u001b[?25hInstalling collected packages: faiss-cpu\n",
            "Successfully installed faiss-cpu-1.7.2\n",
            "Looking in indexes: https://pypi.org/simple, https://us-python.pkg.dev/colab-wheels/public/simple/\n",
            "Collecting sentence-transformers\n",
            "  Downloading sentence-transformers-2.2.2.tar.gz (85 kB)\n",
            "\u001b[K     |████████████████████████████████| 85 kB 4.6 MB/s \n",
            "\u001b[?25hCollecting transformers<5.0.0,>=4.6.0\n",
            "  Downloading transformers-4.23.0-py3-none-any.whl (5.3 MB)\n",
            "\u001b[K     |████████████████████████████████| 5.3 MB 46.4 MB/s \n",
            "\u001b[?25hRequirement already satisfied: tqdm in /usr/local/lib/python3.7/dist-packages (from sentence-transformers) (4.64.1)\n",
            "Requirement already satisfied: torch>=1.6.0 in /usr/local/lib/python3.7/dist-packages (from sentence-transformers) (1.12.1+cu113)\n",
            "Requirement already satisfied: torchvision in /usr/local/lib/python3.7/dist-packages (from sentence-transformers) (0.13.1+cu113)\n",
            "Requirement already satisfied: numpy in /usr/local/lib/python3.7/dist-packages (from sentence-transformers) (1.21.6)\n",
            "Requirement already satisfied: scikit-learn in /usr/local/lib/python3.7/dist-packages (from sentence-transformers) (1.0.2)\n",
            "Requirement already satisfied: scipy in /usr/local/lib/python3.7/dist-packages (from sentence-transformers) (1.7.3)\n",
            "Requirement already satisfied: nltk in /usr/local/lib/python3.7/dist-packages (from sentence-transformers) (3.7)\n",
            "Collecting sentencepiece\n",
            "  Downloading sentencepiece-0.1.97-cp37-cp37m-manylinux_2_17_x86_64.manylinux2014_x86_64.whl (1.3 MB)\n",
            "\u001b[K     |████████████████████████████████| 1.3 MB 53.6 MB/s \n",
            "\u001b[?25hCollecting huggingface-hub>=0.4.0\n",
            "  Downloading huggingface_hub-0.10.0-py3-none-any.whl (163 kB)\n",
            "\u001b[K     |████████████████████████████████| 163 kB 47.7 MB/s \n",
            "\u001b[?25hRequirement already satisfied: typing-extensions>=3.7.4.3 in /usr/local/lib/python3.7/dist-packages (from huggingface-hub>=0.4.0->sentence-transformers) (4.1.1)\n",
            "Requirement already satisfied: filelock in /usr/local/lib/python3.7/dist-packages (from huggingface-hub>=0.4.0->sentence-transformers) (3.8.0)\n",
            "Requirement already satisfied: packaging>=20.9 in /usr/local/lib/python3.7/dist-packages (from huggingface-hub>=0.4.0->sentence-transformers) (21.3)\n",
            "Requirement already satisfied: importlib-metadata in /usr/local/lib/python3.7/dist-packages (from huggingface-hub>=0.4.0->sentence-transformers) (5.0.0)\n",
            "Requirement already satisfied: pyyaml>=5.1 in /usr/local/lib/python3.7/dist-packages (from huggingface-hub>=0.4.0->sentence-transformers) (6.0)\n",
            "Requirement already satisfied: requests in /usr/local/lib/python3.7/dist-packages (from huggingface-hub>=0.4.0->sentence-transformers) (2.23.0)\n",
            "Requirement already satisfied: pyparsing!=3.0.5,>=2.0.2 in /usr/local/lib/python3.7/dist-packages (from packaging>=20.9->huggingface-hub>=0.4.0->sentence-transformers) (3.0.9)\n",
            "Requirement already satisfied: regex!=2019.12.17 in /usr/local/lib/python3.7/dist-packages (from transformers<5.0.0,>=4.6.0->sentence-transformers) (2022.6.2)\n",
            "Collecting tokenizers!=0.11.3,<0.14,>=0.11.1\n",
            "  Downloading tokenizers-0.13.1-cp37-cp37m-manylinux_2_17_x86_64.manylinux2014_x86_64.whl (7.6 MB)\n",
            "\u001b[K     |████████████████████████████████| 7.6 MB 13.1 MB/s \n",
            "\u001b[?25hRequirement already satisfied: zipp>=0.5 in /usr/local/lib/python3.7/dist-packages (from importlib-metadata->huggingface-hub>=0.4.0->sentence-transformers) (3.8.1)\n",
            "Requirement already satisfied: joblib in /usr/local/lib/python3.7/dist-packages (from nltk->sentence-transformers) (1.2.0)\n",
            "Requirement already satisfied: click in /usr/local/lib/python3.7/dist-packages (from nltk->sentence-transformers) (7.1.2)\n",
            "Requirement already satisfied: chardet<4,>=3.0.2 in /usr/local/lib/python3.7/dist-packages (from requests->huggingface-hub>=0.4.0->sentence-transformers) (3.0.4)\n",
            "Requirement already satisfied: certifi>=2017.4.17 in /usr/local/lib/python3.7/dist-packages (from requests->huggingface-hub>=0.4.0->sentence-transformers) (2022.9.24)\n",
            "Requirement already satisfied: idna<3,>=2.5 in /usr/local/lib/python3.7/dist-packages (from requests->huggingface-hub>=0.4.0->sentence-transformers) (2.10)\n",
            "Requirement already satisfied: urllib3!=1.25.0,!=1.25.1,<1.26,>=1.21.1 in /usr/local/lib/python3.7/dist-packages (from requests->huggingface-hub>=0.4.0->sentence-transformers) (1.24.3)\n",
            "Requirement already satisfied: threadpoolctl>=2.0.0 in /usr/local/lib/python3.7/dist-packages (from scikit-learn->sentence-transformers) (3.1.0)\n",
            "Requirement already satisfied: pillow!=8.3.*,>=5.3.0 in /usr/local/lib/python3.7/dist-packages (from torchvision->sentence-transformers) (7.1.2)\n",
            "Building wheels for collected packages: sentence-transformers\n",
            "  Building wheel for sentence-transformers (setup.py) ... \u001b[?25l\u001b[?25hdone\n",
            "  Created wheel for sentence-transformers: filename=sentence_transformers-2.2.2-py3-none-any.whl size=125938 sha256=5032254bf5f1bd5e7a917602ec69033944d15a3daec19bc5c6928c754e723083\n",
            "  Stored in directory: /root/.cache/pip/wheels/bf/06/fb/d59c1e5bd1dac7f6cf61ec0036cc3a10ab8fecaa6b2c3d3ee9\n",
            "Successfully built sentence-transformers\n",
            "Installing collected packages: tokenizers, huggingface-hub, transformers, sentencepiece, sentence-transformers\n",
            "Successfully installed huggingface-hub-0.10.0 sentence-transformers-2.2.2 sentencepiece-0.1.97 tokenizers-0.13.1 transformers-4.23.0\n"
          ]
        }
      ],
      "source": [
        "!pip install faiss-cpu\n",
        "!pip install sentence-transformers"
      ]
    },
    {
      "cell_type": "markdown",
      "source": [
        "#1. Create a dataframe with the existing text and categories"
      ],
      "metadata": {
        "id": "JCmDWnIx-QO2"
      }
    },
    {
      "cell_type": "code",
      "source": [
        "import pandas as pd\n",
        "data = [['where are your headquarters located?','location'],\n",
        "        ['Throw my cellphone in the water','random'],\n",
        "        ['Network Access Control?', 'networking'],\n",
        "        ['Address','location']]\n",
        "\n",
        "df = pd.DataFrame(data, columns = ['text', 'category'])\n",
        "df.index += 1"
      ],
      "metadata": {
        "id": "-S21awZS9Flu"
      },
      "execution_count": 11,
      "outputs": []
    },
    {
      "cell_type": "code",
      "source": [
        "df.head()"
      ],
      "metadata": {
        "colab": {
          "base_uri": "https://localhost:8080/",
          "height": 175
        },
        "id": "NFJD3fj_9zhI",
        "outputId": "243395a0-ef06-4de2-e70d-2be7832997cb"
      },
      "execution_count": 6,
      "outputs": [
        {
          "output_type": "execute_result",
          "data": {
            "text/plain": [
              "                                   text    category\n",
              "1  where are your headquarters located?    location\n",
              "2       Throw my cellphone in the water      random\n",
              "3               Network Access Control?  networking\n",
              "4                               Address    location"
            ],
            "text/html": [
              "\n",
              "  <div id=\"df-bcad0de5-1ecd-4873-82af-ef8777b564c1\">\n",
              "    <div class=\"colab-df-container\">\n",
              "      <div>\n",
              "<style scoped>\n",
              "    .dataframe tbody tr th:only-of-type {\n",
              "        vertical-align: middle;\n",
              "    }\n",
              "\n",
              "    .dataframe tbody tr th {\n",
              "        vertical-align: top;\n",
              "    }\n",
              "\n",
              "    .dataframe thead th {\n",
              "        text-align: right;\n",
              "    }\n",
              "</style>\n",
              "<table border=\"1\" class=\"dataframe\">\n",
              "  <thead>\n",
              "    <tr style=\"text-align: right;\">\n",
              "      <th></th>\n",
              "      <th>text</th>\n",
              "      <th>category</th>\n",
              "    </tr>\n",
              "  </thead>\n",
              "  <tbody>\n",
              "    <tr>\n",
              "      <th>1</th>\n",
              "      <td>where are your headquarters located?</td>\n",
              "      <td>location</td>\n",
              "    </tr>\n",
              "    <tr>\n",
              "      <th>2</th>\n",
              "      <td>Throw my cellphone in the water</td>\n",
              "      <td>random</td>\n",
              "    </tr>\n",
              "    <tr>\n",
              "      <th>3</th>\n",
              "      <td>Network Access Control?</td>\n",
              "      <td>networking</td>\n",
              "    </tr>\n",
              "    <tr>\n",
              "      <th>4</th>\n",
              "      <td>Address</td>\n",
              "      <td>location</td>\n",
              "    </tr>\n",
              "  </tbody>\n",
              "</table>\n",
              "</div>\n",
              "      <button class=\"colab-df-convert\" onclick=\"convertToInteractive('df-bcad0de5-1ecd-4873-82af-ef8777b564c1')\"\n",
              "              title=\"Convert this dataframe to an interactive table.\"\n",
              "              style=\"display:none;\">\n",
              "        \n",
              "  <svg xmlns=\"http://www.w3.org/2000/svg\" height=\"24px\"viewBox=\"0 0 24 24\"\n",
              "       width=\"24px\">\n",
              "    <path d=\"M0 0h24v24H0V0z\" fill=\"none\"/>\n",
              "    <path d=\"M18.56 5.44l.94 2.06.94-2.06 2.06-.94-2.06-.94-.94-2.06-.94 2.06-2.06.94zm-11 1L8.5 8.5l.94-2.06 2.06-.94-2.06-.94L8.5 2.5l-.94 2.06-2.06.94zm10 10l.94 2.06.94-2.06 2.06-.94-2.06-.94-.94-2.06-.94 2.06-2.06.94z\"/><path d=\"M17.41 7.96l-1.37-1.37c-.4-.4-.92-.59-1.43-.59-.52 0-1.04.2-1.43.59L10.3 9.45l-7.72 7.72c-.78.78-.78 2.05 0 2.83L4 21.41c.39.39.9.59 1.41.59.51 0 1.02-.2 1.41-.59l7.78-7.78 2.81-2.81c.8-.78.8-2.07 0-2.86zM5.41 20L4 18.59l7.72-7.72 1.47 1.35L5.41 20z\"/>\n",
              "  </svg>\n",
              "      </button>\n",
              "      \n",
              "  <style>\n",
              "    .colab-df-container {\n",
              "      display:flex;\n",
              "      flex-wrap:wrap;\n",
              "      gap: 12px;\n",
              "    }\n",
              "\n",
              "    .colab-df-convert {\n",
              "      background-color: #E8F0FE;\n",
              "      border: none;\n",
              "      border-radius: 50%;\n",
              "      cursor: pointer;\n",
              "      display: none;\n",
              "      fill: #1967D2;\n",
              "      height: 32px;\n",
              "      padding: 0 0 0 0;\n",
              "      width: 32px;\n",
              "    }\n",
              "\n",
              "    .colab-df-convert:hover {\n",
              "      background-color: #E2EBFA;\n",
              "      box-shadow: 0px 1px 2px rgba(60, 64, 67, 0.3), 0px 1px 3px 1px rgba(60, 64, 67, 0.15);\n",
              "      fill: #174EA6;\n",
              "    }\n",
              "\n",
              "    [theme=dark] .colab-df-convert {\n",
              "      background-color: #3B4455;\n",
              "      fill: #D2E3FC;\n",
              "    }\n",
              "\n",
              "    [theme=dark] .colab-df-convert:hover {\n",
              "      background-color: #434B5C;\n",
              "      box-shadow: 0px 1px 3px 1px rgba(0, 0, 0, 0.15);\n",
              "      filter: drop-shadow(0px 1px 2px rgba(0, 0, 0, 0.3));\n",
              "      fill: #FFFFFF;\n",
              "    }\n",
              "  </style>\n",
              "\n",
              "      <script>\n",
              "        const buttonEl =\n",
              "          document.querySelector('#df-bcad0de5-1ecd-4873-82af-ef8777b564c1 button.colab-df-convert');\n",
              "        buttonEl.style.display =\n",
              "          google.colab.kernel.accessAllowed ? 'block' : 'none';\n",
              "\n",
              "        async function convertToInteractive(key) {\n",
              "          const element = document.querySelector('#df-bcad0de5-1ecd-4873-82af-ef8777b564c1');\n",
              "          const dataTable =\n",
              "            await google.colab.kernel.invokeFunction('convertToInteractive',\n",
              "                                                     [key], {});\n",
              "          if (!dataTable) return;\n",
              "\n",
              "          const docLinkHtml = 'Like what you see? Visit the ' +\n",
              "            '<a target=\"_blank\" href=https://colab.research.google.com/notebooks/data_table.ipynb>data table notebook</a>'\n",
              "            + ' to learn more about interactive tables.';\n",
              "          element.innerHTML = '';\n",
              "          dataTable['output_type'] = 'display_data';\n",
              "          await google.colab.output.renderOutput(dataTable, element);\n",
              "          const docLink = document.createElement('div');\n",
              "          docLink.innerHTML = docLinkHtml;\n",
              "          element.appendChild(docLink);\n",
              "        }\n",
              "      </script>\n",
              "    </div>\n",
              "  </div>\n",
              "  "
            ]
          },
          "metadata": {},
          "execution_count": 6
        }
      ]
    },
    {
      "cell_type": "markdown",
      "source": [
        "#2. Create vectors from the text"
      ],
      "metadata": {
        "id": "_cGn3FL7-dAu"
      }
    },
    {
      "cell_type": "code",
      "source": [
        "from sentence_transformers import SentenceTransformer\n",
        "text = df['text']\n",
        "encoder = SentenceTransformer(\"paraphrase-mpnet-base-v2\")\n",
        "vectors = encoder.encode(text)"
      ],
      "metadata": {
        "id": "VgOYrsEa-F5L"
      },
      "execution_count": 12,
      "outputs": []
    },
    {
      "cell_type": "code",
      "source": [
        "encoder"
      ],
      "metadata": {
        "colab": {
          "base_uri": "https://localhost:8080/"
        },
        "id": "IVyVKAqu-xnj",
        "outputId": "0ef95494-7111-4383-d7f9-0a1324067d66"
      },
      "execution_count": 8,
      "outputs": [
        {
          "output_type": "execute_result",
          "data": {
            "text/plain": [
              "SentenceTransformer(\n",
              "  (0): Transformer({'max_seq_length': 512, 'do_lower_case': False}) with Transformer model: MPNetModel \n",
              "  (1): Pooling({'word_embedding_dimension': 768, 'pooling_mode_cls_token': False, 'pooling_mode_mean_tokens': True, 'pooling_mode_max_tokens': False, 'pooling_mode_mean_sqrt_len_tokens': False})\n",
              ")"
            ]
          },
          "metadata": {},
          "execution_count": 8
        }
      ]
    },
    {
      "cell_type": "code",
      "source": [
        "vectors"
      ],
      "metadata": {
        "colab": {
          "base_uri": "https://localhost:8080/"
        },
        "id": "cSu6qqeb_Ey0",
        "outputId": "f3219907-ff2b-40bf-d977-f27d06298094"
      },
      "execution_count": 13,
      "outputs": [
        {
          "output_type": "execute_result",
          "data": {
            "text/plain": [
              "array([[-0.00437615, -0.06387773, -0.11621019, ...,  0.09268746,\n",
              "        -0.04782984, -0.05484063],\n",
              "       [-0.01245354, -0.26505414, -0.04051865, ...,  0.14551324,\n",
              "         0.13894193,  0.10772906],\n",
              "       [-0.01477679,  0.05492553,  0.03377842, ...,  0.08851659,\n",
              "        -0.14657766, -0.02152408],\n",
              "       [-0.00393086,  0.12958993, -0.03536997, ...,  0.03184687,\n",
              "        -0.11042545,  0.0257849 ]], dtype=float32)"
            ]
          },
          "metadata": {},
          "execution_count": 13
        }
      ]
    },
    {
      "cell_type": "code",
      "source": [
        "text"
      ],
      "metadata": {
        "colab": {
          "base_uri": "https://localhost:8080/"
        },
        "id": "RLQqOAc2_IEy",
        "outputId": "1574fc45-c184-45ed-fca3-db6faead57f9"
      },
      "execution_count": 10,
      "outputs": [
        {
          "output_type": "execute_result",
          "data": {
            "text/plain": [
              "1    where are your headquarters located?\n",
              "2         Throw my cellphone in the water\n",
              "3                 Network Access Control?\n",
              "4                                 Address\n",
              "Name: text, dtype: object"
            ]
          },
          "metadata": {},
          "execution_count": 10
        }
      ]
    },
    {
      "cell_type": "markdown",
      "source": [
        "#3. Build a FAISS index from the vectors"
      ],
      "metadata": {
        "id": "7sLWVvPY_ajB"
      }
    },
    {
      "cell_type": "code",
      "source": [
        "import faiss\n",
        "\n",
        "vector_dimension = vectors.shape[1]\n",
        "index = faiss.IndexFlatL2(vector_dimension)\n",
        "faiss.normalize_L2(vectors)\n",
        "index.add(vectors)"
      ],
      "metadata": {
        "id": "p0uavDVk_K_o"
      },
      "execution_count": 14,
      "outputs": []
    },
    {
      "cell_type": "markdown",
      "source": [
        "#4. Create a search vector"
      ],
      "metadata": {
        "id": "i9OXwmdg_yaV"
      }
    },
    {
      "cell_type": "code",
      "source": [
        "import numpy as np\n",
        "\n",
        "search_text = 'where is your office?'\n",
        "search_vector = encoder.encode(search_text)\n",
        "_vector = np.array([search_vector])\n",
        "faiss.normalize_L2(_vector)"
      ],
      "metadata": {
        "id": "fGt9KysM_wGc"
      },
      "execution_count": 16,
      "outputs": []
    },
    {
      "cell_type": "markdown",
      "source": [
        "#5. Search"
      ],
      "metadata": {
        "id": "7FU-FH-eAQUU"
      }
    },
    {
      "cell_type": "code",
      "source": [
        "k = index.ntotal\n",
        "distances, ann = index.search(_vector, k=k)"
      ],
      "metadata": {
        "id": "RdCqtIgu_3Lt"
      },
      "execution_count": 17,
      "outputs": []
    },
    {
      "cell_type": "code",
      "source": [
        "distances"
      ],
      "metadata": {
        "colab": {
          "base_uri": "https://localhost:8080/"
        },
        "id": "qt3t1UE1A33c",
        "outputId": "da0bfb28-4f60-477b-c6d0-6dda35d324e0"
      },
      "execution_count": 21,
      "outputs": [
        {
          "output_type": "execute_result",
          "data": {
            "text/plain": [
              "array([[0.584873 , 1.1759505, 1.6442652, 1.9197674]], dtype=float32)"
            ]
          },
          "metadata": {},
          "execution_count": 21
        }
      ]
    },
    {
      "cell_type": "code",
      "source": [
        "ann"
      ],
      "metadata": {
        "colab": {
          "base_uri": "https://localhost:8080/"
        },
        "id": "b4vSMTtPA6O0",
        "outputId": "6af0f9cb-ba0e-4e07-89c8-7835d15166f0"
      },
      "execution_count": 22,
      "outputs": [
        {
          "output_type": "execute_result",
          "data": {
            "text/plain": [
              "array([[0, 3, 2, 1]])"
            ]
          },
          "metadata": {},
          "execution_count": 22
        }
      ]
    },
    {
      "cell_type": "markdown",
      "source": [
        "#6. Sort"
      ],
      "metadata": {
        "id": "ZKKushU7AbXY"
      }
    },
    {
      "cell_type": "code",
      "source": [
        "results = pd.DataFrame({'distances' : distances[0], 'ann' : ann[0]})"
      ],
      "metadata": {
        "id": "GulKSFNkAZN8"
      },
      "execution_count": 19,
      "outputs": []
    },
    {
      "cell_type": "code",
      "source": [
        "results"
      ],
      "metadata": {
        "colab": {
          "base_uri": "https://localhost:8080/",
          "height": 193
        },
        "id": "RuwcxrSUAmCo",
        "outputId": "82d065e9-3159-4a7f-9e85-23e4aa1462fe"
      },
      "execution_count": 20,
      "outputs": [
        {
          "output_type": "execute_result",
          "data": {
            "text/plain": [
              "   distances  ann\n",
              "0   0.584873    0\n",
              "1   1.175951    3\n",
              "2   1.644265    2\n",
              "3   1.919767    1"
            ],
            "text/html": [
              "\n",
              "  <div id=\"df-91ecca3e-ac3a-4507-ac13-9a83eb601e6c\">\n",
              "    <div class=\"colab-df-container\">\n",
              "      <div>\n",
              "<style scoped>\n",
              "    .dataframe tbody tr th:only-of-type {\n",
              "        vertical-align: middle;\n",
              "    }\n",
              "\n",
              "    .dataframe tbody tr th {\n",
              "        vertical-align: top;\n",
              "    }\n",
              "\n",
              "    .dataframe thead th {\n",
              "        text-align: right;\n",
              "    }\n",
              "</style>\n",
              "<table border=\"1\" class=\"dataframe\">\n",
              "  <thead>\n",
              "    <tr style=\"text-align: right;\">\n",
              "      <th></th>\n",
              "      <th>distances</th>\n",
              "      <th>ann</th>\n",
              "    </tr>\n",
              "  </thead>\n",
              "  <tbody>\n",
              "    <tr>\n",
              "      <th>0</th>\n",
              "      <td>0.584873</td>\n",
              "      <td>0</td>\n",
              "    </tr>\n",
              "    <tr>\n",
              "      <th>1</th>\n",
              "      <td>1.175951</td>\n",
              "      <td>3</td>\n",
              "    </tr>\n",
              "    <tr>\n",
              "      <th>2</th>\n",
              "      <td>1.644265</td>\n",
              "      <td>2</td>\n",
              "    </tr>\n",
              "    <tr>\n",
              "      <th>3</th>\n",
              "      <td>1.919767</td>\n",
              "      <td>1</td>\n",
              "    </tr>\n",
              "  </tbody>\n",
              "</table>\n",
              "</div>\n",
              "      <button class=\"colab-df-convert\" onclick=\"convertToInteractive('df-91ecca3e-ac3a-4507-ac13-9a83eb601e6c')\"\n",
              "              title=\"Convert this dataframe to an interactive table.\"\n",
              "              style=\"display:none;\">\n",
              "        \n",
              "  <svg xmlns=\"http://www.w3.org/2000/svg\" height=\"24px\"viewBox=\"0 0 24 24\"\n",
              "       width=\"24px\">\n",
              "    <path d=\"M0 0h24v24H0V0z\" fill=\"none\"/>\n",
              "    <path d=\"M18.56 5.44l.94 2.06.94-2.06 2.06-.94-2.06-.94-.94-2.06-.94 2.06-2.06.94zm-11 1L8.5 8.5l.94-2.06 2.06-.94-2.06-.94L8.5 2.5l-.94 2.06-2.06.94zm10 10l.94 2.06.94-2.06 2.06-.94-2.06-.94-.94-2.06-.94 2.06-2.06.94z\"/><path d=\"M17.41 7.96l-1.37-1.37c-.4-.4-.92-.59-1.43-.59-.52 0-1.04.2-1.43.59L10.3 9.45l-7.72 7.72c-.78.78-.78 2.05 0 2.83L4 21.41c.39.39.9.59 1.41.59.51 0 1.02-.2 1.41-.59l7.78-7.78 2.81-2.81c.8-.78.8-2.07 0-2.86zM5.41 20L4 18.59l7.72-7.72 1.47 1.35L5.41 20z\"/>\n",
              "  </svg>\n",
              "      </button>\n",
              "      \n",
              "  <style>\n",
              "    .colab-df-container {\n",
              "      display:flex;\n",
              "      flex-wrap:wrap;\n",
              "      gap: 12px;\n",
              "    }\n",
              "\n",
              "    .colab-df-convert {\n",
              "      background-color: #E8F0FE;\n",
              "      border: none;\n",
              "      border-radius: 50%;\n",
              "      cursor: pointer;\n",
              "      display: none;\n",
              "      fill: #1967D2;\n",
              "      height: 32px;\n",
              "      padding: 0 0 0 0;\n",
              "      width: 32px;\n",
              "    }\n",
              "\n",
              "    .colab-df-convert:hover {\n",
              "      background-color: #E2EBFA;\n",
              "      box-shadow: 0px 1px 2px rgba(60, 64, 67, 0.3), 0px 1px 3px 1px rgba(60, 64, 67, 0.15);\n",
              "      fill: #174EA6;\n",
              "    }\n",
              "\n",
              "    [theme=dark] .colab-df-convert {\n",
              "      background-color: #3B4455;\n",
              "      fill: #D2E3FC;\n",
              "    }\n",
              "\n",
              "    [theme=dark] .colab-df-convert:hover {\n",
              "      background-color: #434B5C;\n",
              "      box-shadow: 0px 1px 3px 1px rgba(0, 0, 0, 0.15);\n",
              "      filter: drop-shadow(0px 1px 2px rgba(0, 0, 0, 0.3));\n",
              "      fill: #FFFFFF;\n",
              "    }\n",
              "  </style>\n",
              "\n",
              "      <script>\n",
              "        const buttonEl =\n",
              "          document.querySelector('#df-91ecca3e-ac3a-4507-ac13-9a83eb601e6c button.colab-df-convert');\n",
              "        buttonEl.style.display =\n",
              "          google.colab.kernel.accessAllowed ? 'block' : 'none';\n",
              "\n",
              "        async function convertToInteractive(key) {\n",
              "          const element = document.querySelector('#df-91ecca3e-ac3a-4507-ac13-9a83eb601e6c');\n",
              "          const dataTable =\n",
              "            await google.colab.kernel.invokeFunction('convertToInteractive',\n",
              "                                                     [key], {});\n",
              "          if (!dataTable) return;\n",
              "\n",
              "          const docLinkHtml = 'Like what you see? Visit the ' +\n",
              "            '<a target=\"_blank\" href=https://colab.research.google.com/notebooks/data_table.ipynb>data table notebook</a>'\n",
              "            + ' to learn more about interactive tables.';\n",
              "          element.innerHTML = '';\n",
              "          dataTable['output_type'] = 'display_data';\n",
              "          await google.colab.output.renderOutput(dataTable, element);\n",
              "          const docLink = document.createElement('div');\n",
              "          docLink.innerHTML = docLinkHtml;\n",
              "          element.appendChild(docLink);\n",
              "        }\n",
              "      </script>\n",
              "    </div>\n",
              "  </div>\n",
              "  "
            ]
          },
          "metadata": {},
          "execution_count": 20
        }
      ]
    },
    {
      "cell_type": "markdown",
      "source": [
        "#7. Get category for the search text"
      ],
      "metadata": {
        "id": "S0tilK77BO_t"
      }
    },
    {
      "cell_type": "code",
      "source": [
        "# join by: df1.ann = data.index\n",
        "merge = pd.merge(results, df, left_on='ann', right_index=True)"
      ],
      "metadata": {
        "id": "Ez614mbaA2V9"
      },
      "execution_count": 24,
      "outputs": []
    },
    {
      "cell_type": "code",
      "source": [
        "merge"
      ],
      "metadata": {
        "colab": {
          "base_uri": "https://localhost:8080/",
          "height": 175
        },
        "id": "Q4aMCGtKBgd9",
        "outputId": "527f3327-ae0d-47cc-9150-7751d5ed89c1"
      },
      "execution_count": 25,
      "outputs": [
        {
          "output_type": "execute_result",
          "data": {
            "text/plain": [
              "   distances  ann                                  text    category\n",
              "0   0.584873    0  where are your headquarters located?    location\n",
              "1   1.175951    3                               Address    location\n",
              "2   1.644265    2               Network Access Control?  networking\n",
              "3   1.919767    1       Throw my cellphone in the water      random"
            ],
            "text/html": [
              "\n",
              "  <div id=\"df-84291f47-cb34-4284-870e-85f6ec2f5852\">\n",
              "    <div class=\"colab-df-container\">\n",
              "      <div>\n",
              "<style scoped>\n",
              "    .dataframe tbody tr th:only-of-type {\n",
              "        vertical-align: middle;\n",
              "    }\n",
              "\n",
              "    .dataframe tbody tr th {\n",
              "        vertical-align: top;\n",
              "    }\n",
              "\n",
              "    .dataframe thead th {\n",
              "        text-align: right;\n",
              "    }\n",
              "</style>\n",
              "<table border=\"1\" class=\"dataframe\">\n",
              "  <thead>\n",
              "    <tr style=\"text-align: right;\">\n",
              "      <th></th>\n",
              "      <th>distances</th>\n",
              "      <th>ann</th>\n",
              "      <th>text</th>\n",
              "      <th>category</th>\n",
              "    </tr>\n",
              "  </thead>\n",
              "  <tbody>\n",
              "    <tr>\n",
              "      <th>0</th>\n",
              "      <td>0.584873</td>\n",
              "      <td>0</td>\n",
              "      <td>where are your headquarters located?</td>\n",
              "      <td>location</td>\n",
              "    </tr>\n",
              "    <tr>\n",
              "      <th>1</th>\n",
              "      <td>1.175951</td>\n",
              "      <td>3</td>\n",
              "      <td>Address</td>\n",
              "      <td>location</td>\n",
              "    </tr>\n",
              "    <tr>\n",
              "      <th>2</th>\n",
              "      <td>1.644265</td>\n",
              "      <td>2</td>\n",
              "      <td>Network Access Control?</td>\n",
              "      <td>networking</td>\n",
              "    </tr>\n",
              "    <tr>\n",
              "      <th>3</th>\n",
              "      <td>1.919767</td>\n",
              "      <td>1</td>\n",
              "      <td>Throw my cellphone in the water</td>\n",
              "      <td>random</td>\n",
              "    </tr>\n",
              "  </tbody>\n",
              "</table>\n",
              "</div>\n",
              "      <button class=\"colab-df-convert\" onclick=\"convertToInteractive('df-84291f47-cb34-4284-870e-85f6ec2f5852')\"\n",
              "              title=\"Convert this dataframe to an interactive table.\"\n",
              "              style=\"display:none;\">\n",
              "        \n",
              "  <svg xmlns=\"http://www.w3.org/2000/svg\" height=\"24px\"viewBox=\"0 0 24 24\"\n",
              "       width=\"24px\">\n",
              "    <path d=\"M0 0h24v24H0V0z\" fill=\"none\"/>\n",
              "    <path d=\"M18.56 5.44l.94 2.06.94-2.06 2.06-.94-2.06-.94-.94-2.06-.94 2.06-2.06.94zm-11 1L8.5 8.5l.94-2.06 2.06-.94-2.06-.94L8.5 2.5l-.94 2.06-2.06.94zm10 10l.94 2.06.94-2.06 2.06-.94-2.06-.94-.94-2.06-.94 2.06-2.06.94z\"/><path d=\"M17.41 7.96l-1.37-1.37c-.4-.4-.92-.59-1.43-.59-.52 0-1.04.2-1.43.59L10.3 9.45l-7.72 7.72c-.78.78-.78 2.05 0 2.83L4 21.41c.39.39.9.59 1.41.59.51 0 1.02-.2 1.41-.59l7.78-7.78 2.81-2.81c.8-.78.8-2.07 0-2.86zM5.41 20L4 18.59l7.72-7.72 1.47 1.35L5.41 20z\"/>\n",
              "  </svg>\n",
              "      </button>\n",
              "      \n",
              "  <style>\n",
              "    .colab-df-container {\n",
              "      display:flex;\n",
              "      flex-wrap:wrap;\n",
              "      gap: 12px;\n",
              "    }\n",
              "\n",
              "    .colab-df-convert {\n",
              "      background-color: #E8F0FE;\n",
              "      border: none;\n",
              "      border-radius: 50%;\n",
              "      cursor: pointer;\n",
              "      display: none;\n",
              "      fill: #1967D2;\n",
              "      height: 32px;\n",
              "      padding: 0 0 0 0;\n",
              "      width: 32px;\n",
              "    }\n",
              "\n",
              "    .colab-df-convert:hover {\n",
              "      background-color: #E2EBFA;\n",
              "      box-shadow: 0px 1px 2px rgba(60, 64, 67, 0.3), 0px 1px 3px 1px rgba(60, 64, 67, 0.15);\n",
              "      fill: #174EA6;\n",
              "    }\n",
              "\n",
              "    [theme=dark] .colab-df-convert {\n",
              "      background-color: #3B4455;\n",
              "      fill: #D2E3FC;\n",
              "    }\n",
              "\n",
              "    [theme=dark] .colab-df-convert:hover {\n",
              "      background-color: #434B5C;\n",
              "      box-shadow: 0px 1px 3px 1px rgba(0, 0, 0, 0.15);\n",
              "      filter: drop-shadow(0px 1px 2px rgba(0, 0, 0, 0.3));\n",
              "      fill: #FFFFFF;\n",
              "    }\n",
              "  </style>\n",
              "\n",
              "      <script>\n",
              "        const buttonEl =\n",
              "          document.querySelector('#df-84291f47-cb34-4284-870e-85f6ec2f5852 button.colab-df-convert');\n",
              "        buttonEl.style.display =\n",
              "          google.colab.kernel.accessAllowed ? 'block' : 'none';\n",
              "\n",
              "        async function convertToInteractive(key) {\n",
              "          const element = document.querySelector('#df-84291f47-cb34-4284-870e-85f6ec2f5852');\n",
              "          const dataTable =\n",
              "            await google.colab.kernel.invokeFunction('convertToInteractive',\n",
              "                                                     [key], {});\n",
              "          if (!dataTable) return;\n",
              "\n",
              "          const docLinkHtml = 'Like what you see? Visit the ' +\n",
              "            '<a target=\"_blank\" href=https://colab.research.google.com/notebooks/data_table.ipynb>data table notebook</a>'\n",
              "            + ' to learn more about interactive tables.';\n",
              "          element.innerHTML = '';\n",
              "          dataTable['output_type'] = 'display_data';\n",
              "          await google.colab.output.renderOutput(dataTable, element);\n",
              "          const docLink = document.createElement('div');\n",
              "          docLink.innerHTML = docLinkHtml;\n",
              "          element.appendChild(docLink);\n",
              "        }\n",
              "      </script>\n",
              "    </div>\n",
              "  </div>\n",
              "  "
            ]
          },
          "metadata": {},
          "execution_count": 25
        }
      ]
    },
    {
      "cell_type": "code",
      "source": [
        "labels =  df['category']\n",
        "category = labels[ann[0][0]]"
      ],
      "metadata": {
        "id": "B0rxsIv8BnH5"
      },
      "execution_count": 26,
      "outputs": []
    },
    {
      "cell_type": "code",
      "source": [
        "labels"
      ],
      "metadata": {
        "colab": {
          "base_uri": "https://localhost:8080/"
        },
        "id": "AEvqSt5zB1KC",
        "outputId": "35afdfe2-f4e1-422f-b6f5-2961f875f5e7"
      },
      "execution_count": 27,
      "outputs": [
        {
          "output_type": "execute_result",
          "data": {
            "text/plain": [
              "0      location\n",
              "1        random\n",
              "2    networking\n",
              "3      location\n",
              "Name: category, dtype: object"
            ]
          },
          "metadata": {},
          "execution_count": 27
        }
      ]
    },
    {
      "cell_type": "code",
      "source": [
        "category"
      ],
      "metadata": {
        "colab": {
          "base_uri": "https://localhost:8080/",
          "height": 36
        },
        "id": "_mxLdUBLB2Ra",
        "outputId": "95e359e6-0fae-498c-9a7f-519bdb08d9a2"
      },
      "execution_count": 28,
      "outputs": [
        {
          "output_type": "execute_result",
          "data": {
            "text/plain": [
              "'location'"
            ],
            "application/vnd.google.colaboratory.intrinsic+json": {
              "type": "string"
            }
          },
          "metadata": {},
          "execution_count": 28
        }
      ]
    },
    {
      "cell_type": "markdown",
      "source": [
        "![image.png](data:image/png;base64,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)"
      ],
      "metadata": {
        "id": "e8wuG9R_CCf6"
      }
    },
    {
      "cell_type": "code",
      "source": [],
      "metadata": {
        "id": "6kK7b47pB37f"
      },
      "execution_count": null,
      "outputs": []
    }
  ]
}